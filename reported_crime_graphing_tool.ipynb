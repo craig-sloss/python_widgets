{
 "cells": [
  {
   "cell_type": "markdown",
   "id": "89c99f2c-a0a4-478b-868d-9e4ac303b9ff",
   "metadata": {},
   "source": [
    "# Reported Crime -- Kitchener-Cambridge-Waterloo"
   ]
  },
  {
   "cell_type": "code",
   "execution_count": 23,
   "id": "803d5891-677b-49f6-823f-fc78af308f6b",
   "metadata": {},
   "outputs": [
    {
     "data": {
      "application/vnd.jupyter.widget-view+json": {
       "model_id": "e61b9f5355c04993965348078d86506c",
       "version_major": 2,
       "version_minor": 0
      },
      "text/plain": [
       "interactive(children=(Dropdown(description='Violation', options=('Total, all violations [0]', 'Total, all Crim…"
      ]
     },
     "metadata": {},
     "output_type": "display_data"
    }
   ],
   "source": [
    "# HIDDEN\n",
    "import pandas as pd\n",
    "from ipywidgets import interact, interactive, fixed, interact_manual, Layout\n",
    "import ipywidgets as widgets\n",
    "import seaborn as sns\n",
    "from matplotlib import pyplot as plt\n",
    "\n",
    "reported_crime_data = pd.read_csv(\"./data/reported_crime_data.csv\")\n",
    "def reported_crime_plot(Violation, Statistics):\n",
    "    reported_crime_data_filtered = reported_crime_data.loc[reported_crime_data.Violations == Violation]\n",
    "    reported_crime_data_filtered = reported_crime_data_filtered.loc[reported_crime_data_filtered.Statistics.isin(Statistics)]\n",
    "    reported_crime_data_wide = reported_crime_data_filtered.pivot(\"REF_DATE\", \"Statistics\", \"VALUE\")\n",
    "    plt.figure(figsize=(15,8))\n",
    "    sns.lineplot(data = reported_crime_data_wide)\n",
    "    plt.ylim(bottom = 0)\n",
    "    plt.xlabel(\"Year\")\n",
    "interact(reported_crime_plot, \n",
    "         Violation = reported_crime_data.Violations.unique(), \n",
    "         Statistics = widgets.SelectMultiple(options = reported_crime_data.Statistics.unique(), layout=Layout(width='50%', height='80px')));"
   ]
  }
 ],
 "metadata": {
  "environment": {
   "kernel": "python3",
   "name": "common-cpu.m102",
   "type": "gcloud",
   "uri": "gcr.io/deeplearning-platform-release/base-cpu:m102"
  },
  "kernelspec": {
   "display_name": "Python 3 (ipykernel)",
   "language": "python",
   "name": "python3"
  },
  "language_info": {
   "codemirror_mode": {
    "name": "ipython",
    "version": 3
   },
   "file_extension": ".py",
   "mimetype": "text/x-python",
   "name": "python",
   "nbconvert_exporter": "python",
   "pygments_lexer": "ipython3",
   "version": "3.7.12"
  }
 },
 "nbformat": 4,
 "nbformat_minor": 5
}

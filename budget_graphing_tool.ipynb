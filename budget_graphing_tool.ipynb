{
 "cells": [
  {
   "cell_type": "markdown",
   "id": "89c99f2c-a0a4-478b-868d-9e4ac303b9ff",
   "metadata": {},
   "source": [
    "# Waterloo Regional Budget Summary"
   ]
  },
  {
   "cell_type": "code",
   "execution_count": 7,
   "id": "803d5891-677b-49f6-823f-fc78af308f6b",
   "metadata": {},
   "outputs": [
    {
     "data": {
      "text/html": [
       "<div>\n",
       "<style scoped>\n",
       "    .dataframe tbody tr th:only-of-type {\n",
       "        vertical-align: middle;\n",
       "    }\n",
       "\n",
       "    .dataframe tbody tr th {\n",
       "        vertical-align: top;\n",
       "    }\n",
       "\n",
       "    .dataframe thead th {\n",
       "        text-align: right;\n",
       "    }\n",
       "</style>\n",
       "<table border=\"1\" class=\"dataframe\">\n",
       "  <thead>\n",
       "    <tr style=\"text-align: right;\">\n",
       "      <th></th>\n",
       "      <th>year</th>\n",
       "      <th>subtotal_group</th>\n",
       "      <th>revised_name</th>\n",
       "      <th>gross_expenditure</th>\n",
       "      <th>net_expenditure</th>\n",
       "      <th>property_tax_levy</th>\n",
       "      <th>gross_expenditure_normalized</th>\n",
       "      <th>property_tax_levy_normalized</th>\n",
       "    </tr>\n",
       "  </thead>\n",
       "  <tbody>\n",
       "    <tr>\n",
       "      <th>0</th>\n",
       "      <td>2017</td>\n",
       "      <td>Total Associated Agencies</td>\n",
       "      <td>Assessment Delivery Services (MPAC)</td>\n",
       "      <td>NaN</td>\n",
       "      <td>6622</td>\n",
       "      <td>6622</td>\n",
       "      <td>NaN</td>\n",
       "      <td>1.000000</td>\n",
       "    </tr>\n",
       "    <tr>\n",
       "      <th>1</th>\n",
       "      <td>2018</td>\n",
       "      <td>Total Associated Agencies</td>\n",
       "      <td>Assessment Delivery Services (MPAC)</td>\n",
       "      <td>NaN</td>\n",
       "      <td>6772</td>\n",
       "      <td>6772</td>\n",
       "      <td>NaN</td>\n",
       "      <td>1.022652</td>\n",
       "    </tr>\n",
       "    <tr>\n",
       "      <th>2</th>\n",
       "      <td>2019</td>\n",
       "      <td>Total Associated Agencies</td>\n",
       "      <td>Assessment Delivery Services (MPAC)</td>\n",
       "      <td>6884.0</td>\n",
       "      <td>6884</td>\n",
       "      <td>6884</td>\n",
       "      <td>1.000000</td>\n",
       "      <td>1.039565</td>\n",
       "    </tr>\n",
       "    <tr>\n",
       "      <th>3</th>\n",
       "      <td>2020</td>\n",
       "      <td>Total Associated Agencies</td>\n",
       "      <td>Assessment Delivery Services (MPAC)</td>\n",
       "      <td>7005.0</td>\n",
       "      <td>7005</td>\n",
       "      <td>7005</td>\n",
       "      <td>1.017577</td>\n",
       "      <td>1.057838</td>\n",
       "    </tr>\n",
       "    <tr>\n",
       "      <th>4</th>\n",
       "      <td>2021</td>\n",
       "      <td>Total Associated Agencies</td>\n",
       "      <td>Assessment Delivery Services (MPAC)</td>\n",
       "      <td>7021.0</td>\n",
       "      <td>7021</td>\n",
       "      <td>7021</td>\n",
       "      <td>1.019901</td>\n",
       "      <td>1.060254</td>\n",
       "    </tr>\n",
       "  </tbody>\n",
       "</table>\n",
       "</div>"
      ],
      "text/plain": [
       "   year             subtotal_group                         revised_name  \\\n",
       "0  2017  Total Associated Agencies  Assessment Delivery Services (MPAC)   \n",
       "1  2018  Total Associated Agencies  Assessment Delivery Services (MPAC)   \n",
       "2  2019  Total Associated Agencies  Assessment Delivery Services (MPAC)   \n",
       "3  2020  Total Associated Agencies  Assessment Delivery Services (MPAC)   \n",
       "4  2021  Total Associated Agencies  Assessment Delivery Services (MPAC)   \n",
       "\n",
       "   gross_expenditure  net_expenditure  property_tax_levy  \\\n",
       "0                NaN             6622               6622   \n",
       "1                NaN             6772               6772   \n",
       "2             6884.0             6884               6884   \n",
       "3             7005.0             7005               7005   \n",
       "4             7021.0             7021               7021   \n",
       "\n",
       "   gross_expenditure_normalized  property_tax_levy_normalized  \n",
       "0                           NaN                      1.000000  \n",
       "1                           NaN                      1.022652  \n",
       "2                      1.000000                      1.039565  \n",
       "3                      1.017577                      1.057838  \n",
       "4                      1.019901                      1.060254  "
      ]
     },
     "execution_count": 7,
     "metadata": {},
     "output_type": "execute_result"
    }
   ],
   "source": [
    "# HIDDEN\n",
    "import pandas as pd\n",
    "from ipywidgets import interact, interactive, fixed, interact_manual, Layout\n",
    "import ipywidgets as widgets\n",
    "import seaborn as sns\n",
    "from matplotlib import pyplot as plt\n",
    "\n",
    "budget_data = pd.read_csv(\"./data/tabular_budget_data.csv\")\n",
    "budget_data.head()"
   ]
  },
  {
   "cell_type": "markdown",
   "id": "c9b82a33-a015-4b69-a66d-6ce411aa3264",
   "metadata": {},
   "source": [
    "Notes:\n",
    "\n",
    "* Gross expenditure data is not provided for 2017 and 2018\n",
    "\n",
    "* The \"normalized\" gross expenditure metric is expressed as a percentage of 2019 gross expenditures. The normalized property tax levy is expressed as a percentage of 2017 property tax levy."
   ]
  }
 ],
 "metadata": {
  "environment": {
   "kernel": "python3",
   "name": "common-cpu.m102",
   "type": "gcloud",
   "uri": "gcr.io/deeplearning-platform-release/base-cpu:m102"
  },
  "kernelspec": {
   "display_name": "Python 3 (ipykernel)",
   "language": "python",
   "name": "python3"
  },
  "language_info": {
   "codemirror_mode": {
    "name": "ipython",
    "version": 3
   },
   "file_extension": ".py",
   "mimetype": "text/x-python",
   "name": "python",
   "nbconvert_exporter": "python",
   "pygments_lexer": "ipython3",
   "version": "3.7.12"
  }
 },
 "nbformat": 4,
 "nbformat_minor": 5
}

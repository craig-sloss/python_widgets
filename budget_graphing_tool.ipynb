{
 "cells": [
  {
   "cell_type": "markdown",
   "id": "89c99f2c-a0a4-478b-868d-9e4ac303b9ff",
   "metadata": {},
   "source": [
    "# Waterloo Regional Budget Summary"
   ]
  },
  {
   "cell_type": "code",
   "execution_count": 1,
   "id": "803d5891-677b-49f6-823f-fc78af308f6b",
   "metadata": {},
   "outputs": [
    {
     "data": {
      "application/vnd.jupyter.widget-view+json": {
       "model_id": "fb1925042d3644529592df7815df37d3",
       "version_major": 2,
       "version_minor": 0
      },
      "text/plain": [
       "interactive(children=(SelectMultiple(description='Departments', layout=Layout(height='80px', width='50%'), opt…"
      ]
     },
     "metadata": {},
     "output_type": "display_data"
    }
   ],
   "source": [
    "# HIDDEN\n",
    "import pandas as pd\n",
    "from ipywidgets import interact, interactive, fixed, interact_manual, Layout\n",
    "import ipywidgets as widgets\n",
    "import seaborn as sns\n",
    "from matplotlib import pyplot as plt\n",
    "\n",
    "budget_data = pd.read_csv(\"./data/tabular_budget_data.csv\")\n",
    "def budget_plot(Departments, Metric):\n",
    "    budget_data_filtered = budget_data.loc[budget_data.revised_name.isin(Departments)]\n",
    "    budget_data_wide = budget_data_filtered.pivot(\"year\", \"revised_name\", Metric)\n",
    "    plt.figure(figsize=(15,8))\n",
    "    sns.lineplot(data = budget_data_wide)\n",
    "    plt.ylim(bottom = 0)\n",
    "    plt.xlabel(\"Year\")\n",
    "all_departments = budget_data.revised_name.unique()\n",
    "interact(budget_plot, \n",
    "         Departments = widgets.SelectMultiple(options = all_departments, layout=Layout(width='50%', height='80px')), \n",
    "         Metric = ['gross_expenditure', 'gross_expenditure_normalized', 'inflation_adjusted_gross', 'inflation_adjusted_gross_normalized', 'net_expenditure', 'inflation_adjusted_net', 'property_tax_levy', 'property_tax_levy_normalized', 'inflation_adjusted_levy', 'inflation_adjusted_levy_normalized']);"
   ]
  },
  {
   "cell_type": "markdown",
   "id": "c9b82a33-a015-4b69-a66d-6ce411aa3264",
   "metadata": {},
   "source": [
    "Notes:\n",
    "\n",
    "* Gross expenditure data is not provided for 2017 and 2018\n",
    "\n",
    "* The \"normalized\" gross expenditure metric is expressed as a percentage of 2019 gross expenditures. The normalized property tax levy is expressed as a percentage of 2017 property tax levy."
   ]
  }
 ],
 "metadata": {
  "environment": {
   "kernel": "python3",
   "name": "common-cpu.m102",
   "type": "gcloud",
   "uri": "gcr.io/deeplearning-platform-release/base-cpu:m102"
  },
  "kernelspec": {
   "display_name": "Python 3 (ipykernel)",
   "language": "python",
   "name": "python3"
  },
  "language_info": {
   "codemirror_mode": {
    "name": "ipython",
    "version": 3
   },
   "file_extension": ".py",
   "mimetype": "text/x-python",
   "name": "python",
   "nbconvert_exporter": "python",
   "pygments_lexer": "ipython3",
   "version": "3.7.12"
  }
 },
 "nbformat": 4,
 "nbformat_minor": 5
}
